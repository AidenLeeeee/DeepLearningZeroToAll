{
 "cells": [
  {
   "cell_type": "markdown",
   "id": "77ae152a",
   "metadata": {},
   "source": [
    "# 1. Build Softmax Classification"
   ]
  },
  {
   "cell_type": "code",
   "execution_count": 11,
   "id": "fffdef96",
   "metadata": {},
   "outputs": [],
   "source": [
    "import tensorflow as tf\n",
    "import numpy as np"
   ]
  },
  {
   "cell_type": "code",
   "execution_count": 19,
   "id": "e51ddd39",
   "metadata": {},
   "outputs": [],
   "source": [
    "# 8 by 4\n",
    "x_train = [[1, 2, 1, 1],\n",
    "           [2, 1, 3, 2],\n",
    "           [3, 1, 3, 4],\n",
    "           [4, 1, 5, 5],\n",
    "           [1, 7, 5, 5], \n",
    "           [1, 2, 5, 6],\n",
    "           [1, 6, 6, 6],\n",
    "           [1, 7, 7, 7]]\n",
    "\n",
    "# One-hot encoding\n",
    "# 8 by 3\n",
    "y_train = [[0, 0, 1],\n",
    "           [0, 0, 1],\n",
    "           [0, 0, 1],\n",
    "           [0, 1, 0],\n",
    "           [0, 1, 0],\n",
    "           [0, 1, 0],\n",
    "           [1, 0, 0],\n",
    "           [1, 0, 0]]\n",
    "\n",
    "# convert into numpy and float format\n",
    "x_data = np.array(x_train, dtype=np.float32)\n",
    "y_data = np.array(y_train, dtype=np.float32)\n",
    "\n",
    "# number of classes = number of labels = number of y\n",
    "nb_classes = 3\n",
    "\n",
    "dataset = tf.data.Dataset.from_tensor_slices((x_data, y_data)).batch(len(x_data))\n",
    "\n",
    "W = tf.Variable(tf.random.normal([4, nb_classes]), name='weight')\n",
    "b = tf.Variable(tf.random.normal([nb_classes]), name='bias')"
   ]
  },
  {
   "cell_type": "markdown",
   "id": "3f1f804f",
   "metadata": {},
   "source": [
    "# 2. Build Softmax function"
   ]
  },
  {
   "cell_type": "code",
   "execution_count": 20,
   "id": "ff8cb313",
   "metadata": {},
   "outputs": [],
   "source": [
    "# Hypothesis\n",
    "def softmax_func(features):\n",
    "    hypothesis = tf.nn.softmax(tf.matmul(features, W) + b)\n",
    "    return hypothesis\n",
    "\n",
    "# Cost function (Cross-Entropy)\n",
    "def cross_entropy(features, labels):\n",
    "    hypothesis = softmax_func(features)\n",
    "    cost = tf.reduce_mean(tf.reduce_sum(y_data * (-tf.math.log(hypothesis)), axis = 1))\n",
    "    return cost\n",
    "\n",
    "# Gradient descent\n",
    "def grad(hypothesis, features, labels):\n",
    "    with tf.GradientTape() as tape:\n",
    "        cost = cross_entropy(features, labels)\n",
    "    return tape.gradient(cost, [W, b])"
   ]
  },
  {
   "cell_type": "markdown",
   "id": "0441d087",
   "metadata": {},
   "source": [
    "# 3. Train"
   ]
  },
  {
   "cell_type": "code",
   "execution_count": 26,
   "id": "abeedf24",
   "metadata": {},
   "outputs": [
    {
     "name": "stdout",
     "output_type": "stream",
     "text": [
      "step: 0, cost: 0.10299590229988098\n",
      "step: 300, cost: 0.09613937884569168\n",
      "step: 600, cost: 0.090118408203125\n",
      "step: 900, cost: 0.08479099720716476\n",
      "step: 1200, cost: 0.08004526793956757\n",
      "step: 1500, cost: 0.07579214870929718\n",
      "step: 1800, cost: 0.07195950299501419\n",
      "step: 2100, cost: 0.06848882138729095\n",
      "step: 2400, cost: 0.06533147394657135\n",
      "step: 2700, cost: 0.06244741380214691\n",
      "step: 3000, cost: 0.05980305373668671\n"
     ]
    }
   ],
   "source": [
    "optimizer = tf.keras.optimizers.SGD(learning_rate = 0.1)\n",
    "\n",
    "EPOCHS = 3000\n",
    "for step in range(EPOCHS + 1):\n",
    "    for features, labels in iter(dataset):\n",
    "        hypothesis = softmax_func(features)\n",
    "        grads = grad(hypothesis, features, labels)\n",
    "        optimizer.apply_gradients(grads_and_vars = zip(grads, [W, b]))\n",
    "        \n",
    "    if step % 300 == 0:\n",
    "        print(\"step: {}, cost: {}\".format(step, cross_entropy(features, labels)))"
   ]
  },
  {
   "cell_type": "markdown",
   "id": "7fccc231",
   "metadata": {},
   "source": [
    "# 4. One-hot Encoding: Test"
   ]
  },
  {
   "cell_type": "markdown",
   "id": "847479e2",
   "metadata": {},
   "source": [
    "##### Test"
   ]
  },
  {
   "cell_type": "code",
   "execution_count": 37,
   "id": "de1083a0",
   "metadata": {},
   "outputs": [
    {
     "name": "stdout",
     "output_type": "stream",
     "text": [
      "test:\n",
      " tf.Tensor([[4.0315525e-05 9.9995947e-01 2.2392535e-07]], shape=(1, 3), dtype=float32)\n",
      "One-hot index:\n",
      " tf.Tensor([1], shape=(1,), dtype=int64)\n"
     ]
    }
   ],
   "source": [
    "# set test data\n",
    "test_data = [[1, 11, 7, 9]]\n",
    "test_x = np.array(test_data, dtype=np.float32)\n",
    "test = softmax_func(test_x)\n",
    "\n",
    "# print test\n",
    "print(\"test:\\n\", test)\n",
    "\n",
    "# print largest one's index with argmax()\n",
    "print(\"One-hot index:\\n\", tf.argmax(test, 1))"
   ]
  },
  {
   "cell_type": "code",
   "execution_count": 38,
   "id": "380b7122",
   "metadata": {
    "scrolled": true
   },
   "outputs": [
    {
     "name": "stdout",
     "output_type": "stream",
     "text": [
      "softmax_func(x_data):\n",
      " tf.Tensor(\n",
      "[[1.6182792e-09 3.7362202e-05 9.9996269e-01]\n",
      " [6.4792075e-05 2.9270148e-02 9.7066510e-01]\n",
      " [6.6916205e-13 6.2354673e-02 9.3764532e-01]\n",
      " [2.0618432e-10 9.4404304e-01 5.5956893e-02]\n",
      " [1.0743184e-01 8.8830066e-01 4.2675058e-03]\n",
      " [5.7056814e-02 9.4294125e-01 1.9359466e-06]\n",
      " [8.7466675e-01 1.2533224e-01 9.1694784e-07]\n",
      " [9.8458242e-01 1.5417588e-02 1.7384544e-09]], shape=(8, 3), dtype=float32)\n"
     ]
    }
   ],
   "source": [
    "# Test\n",
    "pass_softmax_x = softmax_func(x_data)\n",
    "print(\"softmax_func(x_data):\\n\", pass_softmax_x)"
   ]
  },
  {
   "cell_type": "code",
   "execution_count": 39,
   "id": "694d8204",
   "metadata": {
    "scrolled": true
   },
   "outputs": [
    {
     "name": "stdout",
     "output_type": "stream",
     "text": [
      "[[0. 0. 1.]\n",
      " [0. 0. 1.]\n",
      " [0. 0. 1.]\n",
      " [0. 1. 0.]\n",
      " [0. 1. 0.]\n",
      " [0. 1. 0.]\n",
      " [1. 0. 0.]\n",
      " [1. 0. 0.]]\n"
     ]
    }
   ],
   "source": [
    "# One-hot encoding data (y_data)\n",
    "print(y_data)"
   ]
  },
  {
   "cell_type": "code",
   "execution_count": 41,
   "id": "e7f57f01",
   "metadata": {},
   "outputs": [
    {
     "name": "stdout",
     "output_type": "stream",
     "text": [
      "Predicted:\n",
      " tf.Tensor([2 2 2 1 1 1 0 0], shape=(8,), dtype=int64)\n",
      "Real:\n",
      " tf.Tensor([2 2 2 1 1 1 0 0], shape=(8,), dtype=int64)\n"
     ]
    }
   ],
   "source": [
    "# Compare \"Predicted\" and \"Real\"\n",
    "print(\"Predicted:\\n\", tf.argmax(pass_softmax_x, 1))\n",
    "print(\"Real:\\n\", tf.argmax(y_data, 1))"
   ]
  }
 ],
 "metadata": {
  "kernelspec": {
   "display_name": "Python 3 (ipykernel)",
   "language": "python",
   "name": "python3"
  },
  "language_info": {
   "codemirror_mode": {
    "name": "ipython",
    "version": 3
   },
   "file_extension": ".py",
   "mimetype": "text/x-python",
   "name": "python",
   "nbconvert_exporter": "python",
   "pygments_lexer": "ipython3",
   "version": "3.8.8"
  }
 },
 "nbformat": 4,
 "nbformat_minor": 5
}
