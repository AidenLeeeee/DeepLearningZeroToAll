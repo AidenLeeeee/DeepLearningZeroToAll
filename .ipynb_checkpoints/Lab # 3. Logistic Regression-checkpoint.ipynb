{
 "cells": [
  {
   "cell_type": "markdown",
   "id": "65ed6e31",
   "metadata": {},
   "source": [
    "# 1. Build Logistic Regression"
   ]
  },
  {
   "cell_type": "code",
   "execution_count": 2,
   "id": "22f874ff",
   "metadata": {},
   "outputs": [],
   "source": [
    "import tensorflow as tf\n",
    "import numpy as np"
   ]
  },
  {
   "cell_type": "code",
   "execution_count": 3,
   "id": "0254cfde",
   "metadata": {},
   "outputs": [],
   "source": [
    "# Training data set\n",
    "x_train = np.array([\n",
    "    [1, 2],\n",
    "    [2, 3],\n",
    "    [3, 1],\n",
    "    [4, 3],\n",
    "    [5, 3],\n",
    "    [6, 2]], dtype = np.float32)\n",
    "\n",
    "# Simple Logistic Regression 에서 y 는 0 또는 1 의 값을 가진다\n",
    "y_train = np.array([\n",
    "    [0],\n",
    "    [0],\n",
    "    [0],\n",
    "    [1],\n",
    "    [1],\n",
    "    [1]], dtype = np.float32)\n",
    "\n",
    "# Test data set\n",
    "x_test = np.array([[5, 2]], dtype = np.float32)\n",
    "y_test = np.array([[1]], dtype = np.float32)"
   ]
  },
  {
   "cell_type": "code",
   "execution_count": 4,
   "id": "cbc531f0",
   "metadata": {},
   "outputs": [],
   "source": [
    "# 임의의 값을 가진 Weight, Bias 배열 선언\n",
    "W = tf.Variable(tf.random.normal([2, 1]), name = 'Weight')\n",
    "b = tf.Variable(tf.random.normal([1]), name = 'bias')\n",
    "learning_rate = 0.01"
   ]
  },
  {
   "cell_type": "code",
   "execution_count": 5,
   "id": "1154d7f7",
   "metadata": {},
   "outputs": [],
   "source": [
    "# Tensorflow sigmoid() 사용\n",
    "def logistic_regression(x_data):\n",
    "    hypothesis = tf.math.sigmoid(tf.matmul(x_data, W) + b)\n",
    "    return hypothesis"
   ]
  },
  {
   "attachments": {
    "image.png": {
     "image/png": "[encoded data removed]"
    }
   },
   "cell_type": "markdown",
   "id": "35efd59c",
   "metadata": {},
   "source": [
    "##### logistic_regression() - sigmoid() 의 활용\n",
    "![image.png](attachment:image.png)\n",
    "- logistic_regression 메서드는 위의 sigmoid 를 계산하여 Hypothesis 를 반환한다"
   ]
  },
  {
   "cell_type": "markdown",
   "id": "c4f101c1",
   "metadata": {},
   "source": [
    "# 2. Build Cost Function"
   ]
  },
  {
   "cell_type": "code",
   "execution_count": 6,
   "id": "5a81366b",
   "metadata": {},
   "outputs": [],
   "source": [
    "# Cost Function 구현\n",
    "def cost_func(x_data, y_data):\n",
    "    hypothesis = logistic_regression(x_data)\n",
    "    cost = -tf.math.reduce_mean(y_data * tf.math.log(hypothesis) \n",
    "           + (1 - y_data) * tf.math.log(1 - hypothesis))\n",
    "    return cost"
   ]
  },
  {
   "attachments": {
    "image.png": {
     "image/png": "[encoded data removed]"
    }
   },
   "cell_type": "markdown",
   "id": "1b1f28e2",
   "metadata": {},
   "source": [
    "##### cost_func()\n",
    "![image.png](attachment:image.png)\n",
    "- cost_func() 는 위의 식을 구현한 함수이다"
   ]
  },
  {
   "cell_type": "markdown",
   "id": "5fe97be0",
   "metadata": {},
   "source": [
    "# 3. Build Cost Minimum Algorithm"
   ]
  },
  {
   "cell_type": "code",
   "execution_count": 7,
   "id": "a50c3ffe",
   "metadata": {},
   "outputs": [
    {
     "name": "stdout",
     "output_type": "stream",
     "text": [
      "Step: 0, Cost: 2.158916473388672, Weight: [0.6476561], Bias: -1.3002958297729492\n",
      "Step: 300, Cost: 0.4827840328216553, Weight: [0.2507602], Bias: -1.9898484945297241\n",
      "Step: 600, Cost: 0.3543969392776489, Weight: [0.58463925], Bias: -2.283186435699463\n",
      "Step: 900, Cost: 0.31163302063941956, Weight: [0.7723253], Bias: -2.5151867866516113\n",
      "Step: 1200, Cost: 0.2900093197822571, Weight: [0.88991916], Bias: -2.7196216583251953\n",
      "Step: 1500, Cost: 0.2753254473209381, Weight: [0.97036487], Bias: -2.908156633377075\n",
      "Step: 1800, Cost: 0.26355186104774475, Weight: [1.0293672], Bias: -3.0857419967651367\n",
      "Step: 2100, Cost: 0.25330308079719543, Weight: [1.0752325], Bias: -3.254873752593994\n",
      "Step: 2400, Cost: 0.24402816593647003, Weight: [1.1127007], Bias: -3.416984796524048\n",
      "Step: 2700, Cost: 0.2354768067598343, Weight: [1.1446235], Bias: -3.572988271713257\n",
      "Step: 3000, Cost: 0.22751843929290771, Weight: [1.172782], Bias: -3.7235171794891357\n"
     ]
    }
   ],
   "source": [
    "# 전체 DataSet 에 대해 한 번 학습을 완료한 상태 = one Epoch\n",
    "EPOCHS = 3000\n",
    "\n",
    "for step in range(EPOCHS + 1):\n",
    "    with tf.GradientTape() as tape:\n",
    "        hypothesis = logistic_regression(x_train)\n",
    "        cost = cost_func(x_train, y_train)\n",
    "        W_grad, b_grad = tape.gradient(cost, [W, b])\n",
    "        W.assign_sub(learning_rate * W_grad)\n",
    "        b.assign_sub(learning_rate * b_grad)\n",
    "        \n",
    "    if step % 300 == 0:\n",
    "        print(f'Step: {step}, Cost: {cost.numpy()}, Weight: {W.numpy()[0]}, Bias: {b.numpy()[0]}')"
   ]
  },
  {
   "cell_type": "markdown",
   "id": "48c29f46",
   "metadata": {},
   "source": [
    "# 4. Build Accuracy Function"
   ]
  },
  {
   "cell_type": "code",
   "execution_count": 8,
   "id": "a2deeb51",
   "metadata": {},
   "outputs": [],
   "source": [
    "# 예상값과 실제값이 얼마나 유사한지를 반환\n",
    "def accuracy_func(hypothesis, y_data):\n",
    "    # hypothesis 가 0.5 보다 크다면 True(1), 그렇지 않다면 False(0)\n",
    "    predicted = tf.cast(hypothesis > 0.5, dtype = tf.float32)\n",
    "    accuracy = tf.math.reduce_mean(tf.cast(tf.equal(predicted, y_data), dtype = tf.float32))\n",
    "    return accuracy"
   ]
  },
  {
   "cell_type": "code",
   "execution_count": 10,
   "id": "e71fcdfa",
   "metadata": {},
   "outputs": [
    {
     "name": "stdout",
     "output_type": "stream",
     "text": [
      "Accuracy: 100.0%\n"
     ]
    }
   ],
   "source": [
    "# 앞서 정의한 x_test, y_test 를 넣어 예상값과 실제값의 차이를 정확도(%)로 표현\n",
    "test_acc = accuracy_func(logistic_regression(x_test), y_test)\n",
    "print(\"Accuracy: {}%\".format(test_acc * 100))"
   ]
  },
  {
   "cell_type": "code",
   "execution_count": null,
   "id": "dc5af70b",
   "metadata": {},
   "outputs": [],
   "source": []
  }
 ],
 "metadata": {
  "kernelspec": {
   "display_name": "Python 3 (ipykernel)",
   "language": "python",
   "name": "python3"
  },
  "language_info": {
   "codemirror_mode": {
    "name": "ipython",
    "version": 3
   },
   "file_extension": ".py",
   "mimetype": "text/x-python",
   "name": "python",
   "nbconvert_exporter": "python",
   "pygments_lexer": "ipython3",
   "version": "3.8.8"
  }
 },
 "nbformat": 4,
 "nbformat_minor": 5
}
